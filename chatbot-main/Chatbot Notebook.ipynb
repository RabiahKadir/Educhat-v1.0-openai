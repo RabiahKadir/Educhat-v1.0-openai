{
 "cells": [
  {
   "cell_type": "markdown",
   "metadata": {},
   "source": [
    "### Import Library"
   ]
  },
  {
   "cell_type": "code",
   "execution_count": 1,
   "metadata": {},
   "outputs": [],
   "source": [
    "from chatterbot import ChatBot"
   ]
  },
  {
   "cell_type": "markdown",
   "metadata": {},
   "source": [
    "### Create a chatbot instance\n",
    "\n",
    "We will create a chatbot instance, name our bot as 'Buddy' and specify **read_only** to **True** because we only want our chatbot to learn from our training data."
   ]
  },
  {
   "cell_type": "code",
   "execution_count": 2,
   "metadata": {},
   "outputs": [],
   "source": [
    "bot = ChatBot('Buddy', read_only = True)"
   ]
  },
  {
   "cell_type": "markdown",
   "metadata": {},
   "source": [
    "### Training the chatbot\n",
    "\n",
    "Import the **ListTrainer** module, instantiating it by passing the chatbot object (**Buddy**) and calling the **train()** method to pass a list of sentences."
   ]
  },
  {
   "cell_type": "code",
   "execution_count": 3,
   "metadata": {},
   "outputs": [],
   "source": [
    "from chatterbot.trainers import ListTrainer"
   ]
  },
  {
   "cell_type": "code",
   "execution_count": 4,
   "metadata": {},
   "outputs": [
    {
     "name": "stdout",
     "output_type": "stream",
     "text": [
      "List Trainer: [####################] 100%\n",
      "List Trainer: [####################] 100%\n"
     ]
    }
   ],
   "source": [
    "trainer = ListTrainer(bot)\n",
    "\n",
    "trainer.train([\n",
    "    \"Hi, can I help you\",\n",
    "    \"Who are you?\",\n",
    "    \"I am your virtual assistant. Ask me any questions...\",\n",
    "    \"Where do you operate?\",\n",
    "    \"We operate from Singapore\",\n",
    "    \"What payment methods do you accept?\",\n",
    "    \"We accept debit cards and major credit cards\",\n",
    "    \"I would like to speak to your customer service agent\",\n",
    "    \"please call +65 3333 3333. Our operating hours are from 9am to 5pm, Monday to Friday\"\n",
    "    \n",
    "])\n",
    "\n",
    "trainer.train([\n",
    "    \"What payment methods do you offer?\",\n",
    "    \"We accept debit cards and major credit cards\",\n",
    "    \"How to contact customer service agent\",\n",
    "    \"please call +65 3333 3333. Our operating hours are from 9am to 5pm, Monday to Friday\"\n",
    "    \n",
    "])"
   ]
  },
  {
   "cell_type": "markdown",
   "metadata": {},
   "source": [
    "### Chatbot testing\n",
    "\n",
    "Test chatbot out by feeding the chatbot with an input statement."
   ]
  },
  {
   "cell_type": "code",
   "execution_count": 5,
   "metadata": {},
   "outputs": [
    {
     "name": "stdout",
     "output_type": "stream",
     "text": [
      "We accept debit cards and major credit cards\n"
     ]
    }
   ],
   "source": [
    "response = bot.get_response ('payment method')\n",
    "print(response)"
   ]
  },
  {
   "cell_type": "markdown",
   "metadata": {},
   "source": [
    "We can also use **while loop** with **get_response()** method to get our chatbot to respond to each of our queries continuously. We put an end to the loop and stop the program when we get **'Bye'** or **'bye'** statement from the user."
   ]
  },
  {
   "cell_type": "code",
   "execution_count": 5,
   "metadata": {},
   "outputs": [
    {
     "name": "stdout",
     "output_type": "stream",
     "text": [
      "Enter Your Name: Louis\n",
      "Welcome to Chatbot Service! Let me know how can I help you\n",
      "Louis:who are you\n",
      "Bot:  I am your virtual assistant. Ask me any questions...\n",
      "Louis:payment methods\n",
      "Bot:  We accept debit cards and major credit cards: Visa, MasterCard, Amex, Discover, JCB, Diner's Club.\n",
      "Louis:customer service\n",
      "Bot:  please call +65 3333 3333. Our operating hours are from 9am to 5pm, Monday to Friday\n",
      "Louis:bye\n",
      "Bot: Bye\n"
     ]
    }
   ],
   "source": [
    "name = input('Enter Your Name: ')\n",
    "\n",
    "print ('Welcome to Chatbot Service! Let me know how can I help you')\n",
    "\n",
    "while True:\n",
    "    \n",
    "    request = input(name+':')\n",
    "    \n",
    "    if request==\"Bye\" or request=='bye':\n",
    "        print('Bot: Bye')\n",
    "        break\n",
    "    else:\n",
    "        response=bot.get_response(request)\n",
    "        print('Bot: ', response)"
   ]
  },
  {
   "cell_type": "markdown",
   "metadata": {},
   "source": [
    "### Corpus data training\n",
    "\n",
    "We can quickly train our chatbot to communicate using the availability of corpus data and utility module. Here we will use English corpus data to train our chatbot to communicate in English."
   ]
  },
  {
   "cell_type": "code",
   "execution_count": 6,
   "metadata": {},
   "outputs": [
    {
     "name": "stdout",
     "output_type": "stream",
     "text": [
      "Training ai.yml: [#                   ] 5%"
     ]
    },
    {
     "name": "stderr",
     "output_type": "stream",
     "text": [
      "/Users/Louis/anaconda3/lib/python3.7/site-packages/chatterbot/corpus.py:59: YAMLLoadWarning: calling yaml.load() without Loader=... is deprecated, as the default Loader is unsafe. Please read https://msg.pyyaml.org/load for full details.\n",
      "  return yaml.load(data_file)\n"
     ]
    },
    {
     "name": "stdout",
     "output_type": "stream",
     "text": [
      "Training ai.yml: [####################] 100%\n",
      "Training botprofile.yml: [####################] 100%\n",
      "Training computers.yml: [####################] 100%\n",
      "Training conversations.yml: [####################] 100%\n",
      "Training emotion.yml: [####################] 100%\n",
      "Training food.yml: [####################] 100%\n",
      "Training gossip.yml: [####################] 100%\n",
      "Training greetings.yml: [####################] 100%\n",
      "Training health.yml: [####################] 100%\n",
      "Training history.yml: [####################] 100%\n",
      "Training humor.yml: [####################] 100%\n",
      "Training literature.yml: [####################] 100%\n",
      "Training money.yml: [####################] 100%\n",
      "Training movies.yml: [####################] 100%\n",
      "Training politics.yml: [####################] 100%\n",
      "Training psychology.yml: [####################] 100%\n",
      "Training science.yml: [####################] 100%\n",
      "Training sports.yml: [####################] 100%\n",
      "Training trivia.yml: [####################] 100%\n"
     ]
    }
   ],
   "source": [
    "from chatterbot.trainers import ChatterBotCorpusTrainer\n",
    "\n",
    "trainer = ChatterBotCorpusTrainer(bot)\n",
    "\n",
    "trainer.train('chatterbot.corpus.english')"
   ]
  },
  {
   "cell_type": "code",
   "execution_count": 7,
   "metadata": {},
   "outputs": [
    {
     "name": "stdout",
     "output_type": "stream",
     "text": [
      "Enter Your Name: Louis\n",
      "Welcome to Chatbot Service! Let me know how can I help you\n",
      "Louis:Hello\n",
      "Bot:  Hi\n",
      "Louis:Who are you?\n",
      "Bot:  I am your virtual assistant. Ask me any questions...\n",
      "Louis:tell me a joke\n",
      "Bot:  Did you hear the one about the mountain goats in the andes? It was \"ba a a a a a d\".\n",
      "Louis:what is AI?\n",
      "Bot:  Artificial Intelligence is the branch of engineering and science devoted to constructing machines that think.\n",
      "Louis:payment methods\n",
      "Bot:  We accept debit cards and major credit cards: Visa, MasterCard, Amex, Discover, JCB, Diner's Club.\n",
      "Louis:customer service\n",
      "Bot:  please call +65 3333 3333. Our operating hours are from 9am to 5pm, Monday to Friday\n",
      "Louis:bye\n",
      "Bot: Bye\n"
     ]
    }
   ],
   "source": [
    "name = input('Enter Your Name: ')\n",
    "\n",
    "print ('Welcome to Chatbot Service! Let me know how can I help you')\n",
    "\n",
    "while True:\n",
    "    \n",
    "    request = input(name+':')\n",
    "    \n",
    "    if request==\"Bye\" or request=='bye':\n",
    "        print('Bot: Bye')\n",
    "        break\n",
    "    else:\n",
    "        response=bot.get_response(request)\n",
    "        print('Bot: ', response)"
   ]
  },
  {
   "cell_type": "markdown",
   "metadata": {},
   "source": [
    "### Preprocess input\n",
    "\n",
    "ChatterBot comes with several built-in preprocessors that allow us to clean our input statement, before we get the statement processed by the bot's logic adapter."
   ]
  },
  {
   "cell_type": "code",
   "execution_count": 7,
   "metadata": {},
   "outputs": [],
   "source": [
    "bot = ChatBot('Buddy',\n",
    "             read_only = True,\n",
    "             preprocessors=['chatterbot.preprocessors.clean_whitespace',\n",
    "                            'chatterbot.preprocessors.unescape_html',\n",
    "                           'chatterbot.preprocessors.convert_to_ascii'])"
   ]
  },
  {
   "cell_type": "code",
   "execution_count": 11,
   "metadata": {},
   "outputs": [
    {
     "name": "stdout",
     "output_type": "stream",
     "text": [
      "Enter Your Name: Louis\n",
      "Welcome to Chatbot Service! Let me know how can I help you\n",
      "Louis:who are you?\n",
      "Bot:  I am your virtual assistant. Ask me any questions...\n",
      "Louis:whó are yóu\n",
      "Bot:  I am your virtual assistant. Ask me any questions...\n",
      "Louis:bye\n",
      "Bot: Bye\n"
     ]
    }
   ],
   "source": [
    "name = input('Enter Your Name: ')\n",
    "\n",
    "print ('Welcome to Chatbot Service! Let me know how can I help you')\n",
    "\n",
    "while True:\n",
    "    \n",
    "    request = input(name+':')\n",
    "    \n",
    "    if request==\"Bye\" or request=='bye':\n",
    "        print('Bot: Bye')\n",
    "        break\n",
    "    else:\n",
    "        response=bot.get_response(request)\n",
    "        print('Bot: ', response)"
   ]
  },
  {
   "cell_type": "markdown",
   "metadata": {},
   "source": [
    "### Low confidence response\n",
    "\n",
    "we can also configure our chatbot to inform users if the input is not understood"
   ]
  },
  {
   "cell_type": "code",
   "execution_count": 8,
   "metadata": {},
   "outputs": [],
   "source": [
    "bot = ChatBot('Buddy',\n",
    "             logic_adapters = [\n",
    "                 {\n",
    "                     'import_path': 'chatterbot.logic.BestMatch',\n",
    "                     'default_response': 'I am sorry, I do not understand. I am still learning. Please contact abc@xxx.com for further assistance.',\n",
    "                     'maximum_similarity_threshold': 0.90\n",
    "                 }\n",
    "             ],\n",
    "             read_only = True,\n",
    "             preprocessors=['chatterbot.preprocessors.clean_whitespace',\n",
    "                            'chatterbot.preprocessors.unescape_html',\n",
    "                           'chatterbot.preprocessors.convert_to_ascii'])"
   ]
  },
  {
   "cell_type": "code",
   "execution_count": 9,
   "metadata": {},
   "outputs": [
    {
     "name": "stdout",
     "output_type": "stream",
     "text": [
      "Enter Your Name: Louis\n",
      "Welcome to Chatbot Service! Let me know how can I help you\n",
      "Louis:omelette\n",
      "Bot:  I am sorry, I do not understand. I am still learning. Please contact abc@xxx.com for further assistance.\n",
      "Louis:bye\n",
      "Bot: Bye\n"
     ]
    }
   ],
   "source": [
    "name = input('Enter Your Name: ')\n",
    "\n",
    "print ('Welcome to Chatbot Service! Let me know how can I help you')\n",
    "\n",
    "while True:\n",
    "    \n",
    "    request = input(name+':')\n",
    "    \n",
    "    if request==\"Bye\" or request=='bye':\n",
    "        print('Bot: Bye')\n",
    "        break\n",
    "    else:\n",
    "        response=bot.get_response(request)\n",
    "        print('Bot: ', response)"
   ]
  },
  {
   "cell_type": "markdown",
   "metadata": {},
   "source": [
    "### Complete codes\n",
    "Refer to **chatbot_training.py** and **chatbot.py** for the packaged executable scripts."
   ]
  },
  {
   "cell_type": "code",
   "execution_count": null,
   "metadata": {},
   "outputs": [],
   "source": []
  }
 ],
 "metadata": {
  "kernelspec": {
   "display_name": "Python 3",
   "language": "python",
   "name": "python3"
  },
  "language_info": {
   "codemirror_mode": {
    "name": "ipython",
    "version": 3
   },
   "file_extension": ".py",
   "mimetype": "text/x-python",
   "name": "python",
   "nbconvert_exporter": "python",
   "pygments_lexer": "ipython3",
   "version": "3.7.9"
  }
 },
 "nbformat": 4,
 "nbformat_minor": 4
}
